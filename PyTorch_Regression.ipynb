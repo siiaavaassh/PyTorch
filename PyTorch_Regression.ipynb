{
  "nbformat": 4,
  "nbformat_minor": 0,
  "metadata": {
    "colab": {
      "provenance": []
    },
    "kernelspec": {
      "name": "python3",
      "display_name": "Python 3"
    },
    "language_info": {
      "name": "python"
    }
  },
  "cells": [
    {
      "cell_type": "code",
      "execution_count": 2,
      "metadata": {
        "id": "w-1k6smTnV8i"
      },
      "outputs": [],
      "source": [
        "import torch\n",
        "from torch import nn\n",
        "import matplotlib.pyplot as plt"
      ]
    },
    {
      "cell_type": "markdown",
      "source": [
        "prepare and load data"
      ],
      "metadata": {
        "id": "oSKjvp1Xn1YQ"
      }
    },
    {
      "cell_type": "markdown",
      "source": [
        "linear regression"
      ],
      "metadata": {
        "id": "q6qunaWvo1-f"
      }
    },
    {
      "cell_type": "code",
      "source": [
        "weight = 0.7\n",
        "bias = 0.3\n",
        "\n",
        "#create\n",
        "start = 0\n",
        "end = 1\n",
        "step = 0.02\n",
        "X =  torch.arange(start,end,step).unsqueeze(dim=1)\n",
        "y = weight * X + bias\n",
        "X[:10], y[:10]"
      ],
      "metadata": {
        "colab": {
          "base_uri": "https://localhost:8080/"
        },
        "id": "Et1XrvUfnz51",
        "outputId": "128909b6-bb03-4434-cd34-8381b22675a6"
      },
      "execution_count": 3,
      "outputs": [
        {
          "output_type": "execute_result",
          "data": {
            "text/plain": [
              "(tensor([[0.0000],\n",
              "         [0.0200],\n",
              "         [0.0400],\n",
              "         [0.0600],\n",
              "         [0.0800],\n",
              "         [0.1000],\n",
              "         [0.1200],\n",
              "         [0.1400],\n",
              "         [0.1600],\n",
              "         [0.1800]]),\n",
              " tensor([[0.3000],\n",
              "         [0.3140],\n",
              "         [0.3280],\n",
              "         [0.3420],\n",
              "         [0.3560],\n",
              "         [0.3700],\n",
              "         [0.3840],\n",
              "         [0.3980],\n",
              "         [0.4120],\n",
              "         [0.4260]]))"
            ]
          },
          "metadata": {},
          "execution_count": 3
        }
      ]
    },
    {
      "cell_type": "code",
      "source": [
        "len(X), len(y)"
      ],
      "metadata": {
        "colab": {
          "base_uri": "https://localhost:8080/"
        },
        "id": "o2iCdrX6psfC",
        "outputId": "080fee91-0dfc-45b5-b89c-cee455a73ef0"
      },
      "execution_count": 4,
      "outputs": [
        {
          "output_type": "execute_result",
          "data": {
            "text/plain": [
              "(50, 50)"
            ]
          },
          "metadata": {},
          "execution_count": 4
        }
      ]
    },
    {
      "cell_type": "code",
      "source": [
        "#create train and test\n",
        "train_spilit =  int(0.8 * len(X))\n",
        "X_train, y_train = X[:train_spilit], y[:train_spilit]\n",
        "X_test, y_test = X[train_spilit:], y[train_spilit:]\n",
        "len(X_train),len(y_train), len(X_test), len(y_test)"
      ],
      "metadata": {
        "colab": {
          "base_uri": "https://localhost:8080/"
        },
        "id": "Wo6g2__nqyFm",
        "outputId": "f6921b44-4f1b-41b5-c8e2-5fce95d0f3d3"
      },
      "execution_count": 5,
      "outputs": [
        {
          "output_type": "execute_result",
          "data": {
            "text/plain": [
              "(40, 40, 10, 10)"
            ]
          },
          "metadata": {},
          "execution_count": 5
        }
      ]
    },
    {
      "cell_type": "markdown",
      "source": [
        "building the first linear regression model"
      ],
      "metadata": {
        "id": "ZTPnd_cI2i4E"
      }
    },
    {
      "cell_type": "markdown",
      "source": [
        "این مدل قراره که با مقادیر رندوم وزن و بایاس شروع کنه و هی آپدیت کنه تا به اون مقادیری که دینا را باهاش ساختیم برسه\n",
        "این کار توسط 2 الگوریتم انجام میشه:\n",
        "\n",
        "\n",
        "1)gradiant decent -> requires_grad = True\n",
        "\n",
        "\n",
        "\n",
        "\n",
        "2)backpropagation"
      ],
      "metadata": {
        "id": "mmJRZt1ErEcd"
      }
    },
    {
      "cell_type": "code",
      "source": [
        "class LinearRegreesionModel(nn.Module):\n",
        "  def __init__(self):\n",
        "    super().__init__()\n",
        "    self.weights = nn.Parameter(torch.randn(1,\n",
        "                                requires_grad=True,\n",
        "                                dtype=torch.float))\n",
        "    self.bias = nn.Parameter(torch.randn(1,\n",
        "                                requires_grad=True,\n",
        "                                dtype=torch.float))\n",
        "  def forward(self,x: torch.tensor) -> torch.Tensor:\n",
        "    return self.weights * x + self.bias"
      ],
      "metadata": {
        "id": "em79wYAl2ir9"
      },
      "execution_count": 6,
      "outputs": []
    },
    {
      "cell_type": "code",
      "source": [
        "#create random seed\n",
        "torch.manual_seed(42) #baraye random number ha\n",
        "model_0 = LinearRegreesionModel()\n",
        "\n",
        "#check kardan parametr ha\n",
        "list(model_0.parameters())"
      ],
      "metadata": {
        "colab": {
          "base_uri": "https://localhost:8080/"
        },
        "id": "jV2Q-C10yXfE",
        "outputId": "38b24f42-4129-4715-b797-acb41dd38a22"
      },
      "execution_count": 7,
      "outputs": [
        {
          "output_type": "execute_result",
          "data": {
            "text/plain": [
              "[Parameter containing:\n",
              " tensor([0.3367], requires_grad=True),\n",
              " Parameter containing:\n",
              " tensor([0.1288], requires_grad=True)]"
            ]
          },
          "metadata": {},
          "execution_count": 7
        }
      ]
    },
    {
      "cell_type": "code",
      "source": [
        "model_0.state_dict()\n"
      ],
      "metadata": {
        "colab": {
          "base_uri": "https://localhost:8080/"
        },
        "id": "DADixGKgzMQh",
        "outputId": "f4b1e55b-a398-4145-e8d8-9025e9cc3092"
      },
      "execution_count": 8,
      "outputs": [
        {
          "output_type": "execute_result",
          "data": {
            "text/plain": [
              "OrderedDict([('weights', tensor([0.3367])), ('bias', tensor([0.1288]))])"
            ]
          },
          "metadata": {},
          "execution_count": 8
        }
      ]
    },
    {
      "cell_type": "code",
      "source": [
        "#make predictions\n",
        "with torch.inference_mode():\n",
        "  y_pred = model_0(X_test)\n",
        "\n",
        "y_pred"
      ],
      "metadata": {
        "colab": {
          "base_uri": "https://localhost:8080/"
        },
        "id": "iPZYAK2lz5-N",
        "outputId": "f07a0e37-b2e2-4e1d-b91a-607c08ff5a94"
      },
      "execution_count": 9,
      "outputs": [
        {
          "output_type": "execute_result",
          "data": {
            "text/plain": [
              "tensor([[0.3982],\n",
              "        [0.4049],\n",
              "        [0.4116],\n",
              "        [0.4184],\n",
              "        [0.4251],\n",
              "        [0.4318],\n",
              "        [0.4386],\n",
              "        [0.4453],\n",
              "        [0.4520],\n",
              "        [0.4588]])"
            ]
          },
          "metadata": {},
          "execution_count": 9
        }
      ]
    },
    {
      "cell_type": "code",
      "source": [
        "#setup loss function\n",
        "ls = nn.L1Loss()\n",
        "\n",
        "\n",
        "#setup optimizer\n",
        "op = torch.optim.SGD(model_0.parameters(),lr=0.01)"
      ],
      "metadata": {
        "id": "ZQyac98G1rdR"
      },
      "execution_count": 10,
      "outputs": []
    },
    {
      "cell_type": "markdown",
      "source": [
        "Builidng a training loop"
      ],
      "metadata": {
        "id": "MLhE5o8QLpBv"
      }
    },
    {
      "cell_type": "code",
      "source": [
        "torch.manual_seed(42)\n",
        "\n",
        "epochs = 100 # one loop through the data\n",
        "for epoch in range(epochs):\n",
        "  #set the model to train\n",
        "\n",
        "\n",
        "  model_0.train() #train mode in pytorch\n",
        "\n",
        "\n",
        "  #1) forward pass\n",
        "\n",
        "  y_pred = model_0(X_train)\n",
        "\n",
        "  #2) calculate loss function\n",
        "\n",
        "  loss = ls(y_pred,y_train)\n",
        "  print(f\"loss:\", loss)\n",
        "\n",
        "  #3) optimizer zero gard\n",
        "\n",
        "  op.zero_grad()\n",
        "\n",
        "  #4) backpropagation\n",
        "\n",
        "  loss.backward()\n",
        "\n",
        "  #5) step the optimizer ( gradiant decent)\n",
        "\n",
        "  op.step()\n",
        "\n",
        "  #Testing\n",
        "\n",
        "  model_0.eval()\n",
        "  with torch.inference_mode():# turn off gradian tracking\n",
        "\n",
        "  #1)do the forward pass\n",
        "\n",
        "    test_pre = model_0(X_test)\n",
        "\n",
        "  #2) calculate the loss\n",
        "\n",
        "    test_loss = ls(test_pre,y_test)\n",
        "\n",
        "  #3)\n"
      ],
      "metadata": {
        "colab": {
          "base_uri": "https://localhost:8080/"
        },
        "id": "amEv2XGrGRnP",
        "outputId": "c8aa545a-0036-4b21-ea62-147d48066f3d"
      },
      "execution_count": 11,
      "outputs": [
        {
          "output_type": "stream",
          "name": "stdout",
          "text": [
            "loss: tensor(0.3129, grad_fn=<MeanBackward0>)\n",
            "loss: tensor(0.3014, grad_fn=<MeanBackward0>)\n",
            "loss: tensor(0.2898, grad_fn=<MeanBackward0>)\n",
            "loss: tensor(0.2783, grad_fn=<MeanBackward0>)\n",
            "loss: tensor(0.2668, grad_fn=<MeanBackward0>)\n",
            "loss: tensor(0.2553, grad_fn=<MeanBackward0>)\n",
            "loss: tensor(0.2438, grad_fn=<MeanBackward0>)\n",
            "loss: tensor(0.2322, grad_fn=<MeanBackward0>)\n",
            "loss: tensor(0.2207, grad_fn=<MeanBackward0>)\n",
            "loss: tensor(0.2092, grad_fn=<MeanBackward0>)\n",
            "loss: tensor(0.1977, grad_fn=<MeanBackward0>)\n",
            "loss: tensor(0.1862, grad_fn=<MeanBackward0>)\n",
            "loss: tensor(0.1746, grad_fn=<MeanBackward0>)\n",
            "loss: tensor(0.1631, grad_fn=<MeanBackward0>)\n",
            "loss: tensor(0.1516, grad_fn=<MeanBackward0>)\n",
            "loss: tensor(0.1401, grad_fn=<MeanBackward0>)\n",
            "loss: tensor(0.1285, grad_fn=<MeanBackward0>)\n",
            "loss: tensor(0.1170, grad_fn=<MeanBackward0>)\n",
            "loss: tensor(0.1061, grad_fn=<MeanBackward0>)\n",
            "loss: tensor(0.0968, grad_fn=<MeanBackward0>)\n",
            "loss: tensor(0.0891, grad_fn=<MeanBackward0>)\n",
            "loss: tensor(0.0823, grad_fn=<MeanBackward0>)\n",
            "loss: tensor(0.0764, grad_fn=<MeanBackward0>)\n",
            "loss: tensor(0.0716, grad_fn=<MeanBackward0>)\n",
            "loss: tensor(0.0675, grad_fn=<MeanBackward0>)\n",
            "loss: tensor(0.0640, grad_fn=<MeanBackward0>)\n",
            "loss: tensor(0.0610, grad_fn=<MeanBackward0>)\n",
            "loss: tensor(0.0585, grad_fn=<MeanBackward0>)\n",
            "loss: tensor(0.0564, grad_fn=<MeanBackward0>)\n",
            "loss: tensor(0.0546, grad_fn=<MeanBackward0>)\n",
            "loss: tensor(0.0531, grad_fn=<MeanBackward0>)\n",
            "loss: tensor(0.0518, grad_fn=<MeanBackward0>)\n",
            "loss: tensor(0.0507, grad_fn=<MeanBackward0>)\n",
            "loss: tensor(0.0498, grad_fn=<MeanBackward0>)\n",
            "loss: tensor(0.0490, grad_fn=<MeanBackward0>)\n",
            "loss: tensor(0.0482, grad_fn=<MeanBackward0>)\n",
            "loss: tensor(0.0475, grad_fn=<MeanBackward0>)\n",
            "loss: tensor(0.0469, grad_fn=<MeanBackward0>)\n",
            "loss: tensor(0.0464, grad_fn=<MeanBackward0>)\n",
            "loss: tensor(0.0459, grad_fn=<MeanBackward0>)\n",
            "loss: tensor(0.0454, grad_fn=<MeanBackward0>)\n",
            "loss: tensor(0.0450, grad_fn=<MeanBackward0>)\n",
            "loss: tensor(0.0446, grad_fn=<MeanBackward0>)\n",
            "loss: tensor(0.0442, grad_fn=<MeanBackward0>)\n",
            "loss: tensor(0.0438, grad_fn=<MeanBackward0>)\n",
            "loss: tensor(0.0434, grad_fn=<MeanBackward0>)\n",
            "loss: tensor(0.0431, grad_fn=<MeanBackward0>)\n",
            "loss: tensor(0.0427, grad_fn=<MeanBackward0>)\n",
            "loss: tensor(0.0424, grad_fn=<MeanBackward0>)\n",
            "loss: tensor(0.0420, grad_fn=<MeanBackward0>)\n",
            "loss: tensor(0.0417, grad_fn=<MeanBackward0>)\n",
            "loss: tensor(0.0413, grad_fn=<MeanBackward0>)\n",
            "loss: tensor(0.0410, grad_fn=<MeanBackward0>)\n",
            "loss: tensor(0.0406, grad_fn=<MeanBackward0>)\n",
            "loss: tensor(0.0403, grad_fn=<MeanBackward0>)\n",
            "loss: tensor(0.0399, grad_fn=<MeanBackward0>)\n",
            "loss: tensor(0.0396, grad_fn=<MeanBackward0>)\n",
            "loss: tensor(0.0392, grad_fn=<MeanBackward0>)\n",
            "loss: tensor(0.0389, grad_fn=<MeanBackward0>)\n",
            "loss: tensor(0.0385, grad_fn=<MeanBackward0>)\n",
            "loss: tensor(0.0382, grad_fn=<MeanBackward0>)\n",
            "loss: tensor(0.0379, grad_fn=<MeanBackward0>)\n",
            "loss: tensor(0.0375, grad_fn=<MeanBackward0>)\n",
            "loss: tensor(0.0372, grad_fn=<MeanBackward0>)\n",
            "loss: tensor(0.0368, grad_fn=<MeanBackward0>)\n",
            "loss: tensor(0.0365, grad_fn=<MeanBackward0>)\n",
            "loss: tensor(0.0361, grad_fn=<MeanBackward0>)\n",
            "loss: tensor(0.0358, grad_fn=<MeanBackward0>)\n",
            "loss: tensor(0.0354, grad_fn=<MeanBackward0>)\n",
            "loss: tensor(0.0351, grad_fn=<MeanBackward0>)\n",
            "loss: tensor(0.0348, grad_fn=<MeanBackward0>)\n",
            "loss: tensor(0.0344, grad_fn=<MeanBackward0>)\n",
            "loss: tensor(0.0341, grad_fn=<MeanBackward0>)\n",
            "loss: tensor(0.0337, grad_fn=<MeanBackward0>)\n",
            "loss: tensor(0.0334, grad_fn=<MeanBackward0>)\n",
            "loss: tensor(0.0330, grad_fn=<MeanBackward0>)\n",
            "loss: tensor(0.0327, grad_fn=<MeanBackward0>)\n",
            "loss: tensor(0.0324, grad_fn=<MeanBackward0>)\n",
            "loss: tensor(0.0320, grad_fn=<MeanBackward0>)\n",
            "loss: tensor(0.0317, grad_fn=<MeanBackward0>)\n",
            "loss: tensor(0.0313, grad_fn=<MeanBackward0>)\n",
            "loss: tensor(0.0310, grad_fn=<MeanBackward0>)\n",
            "loss: tensor(0.0306, grad_fn=<MeanBackward0>)\n",
            "loss: tensor(0.0303, grad_fn=<MeanBackward0>)\n",
            "loss: tensor(0.0300, grad_fn=<MeanBackward0>)\n",
            "loss: tensor(0.0296, grad_fn=<MeanBackward0>)\n",
            "loss: tensor(0.0293, grad_fn=<MeanBackward0>)\n",
            "loss: tensor(0.0289, grad_fn=<MeanBackward0>)\n",
            "loss: tensor(0.0286, grad_fn=<MeanBackward0>)\n",
            "loss: tensor(0.0282, grad_fn=<MeanBackward0>)\n",
            "loss: tensor(0.0279, grad_fn=<MeanBackward0>)\n",
            "loss: tensor(0.0275, grad_fn=<MeanBackward0>)\n",
            "loss: tensor(0.0272, grad_fn=<MeanBackward0>)\n",
            "loss: tensor(0.0269, grad_fn=<MeanBackward0>)\n",
            "loss: tensor(0.0265, grad_fn=<MeanBackward0>)\n",
            "loss: tensor(0.0262, grad_fn=<MeanBackward0>)\n",
            "loss: tensor(0.0258, grad_fn=<MeanBackward0>)\n",
            "loss: tensor(0.0255, grad_fn=<MeanBackward0>)\n",
            "loss: tensor(0.0251, grad_fn=<MeanBackward0>)\n",
            "loss: tensor(0.0248, grad_fn=<MeanBackward0>)\n"
          ]
        }
      ]
    },
    {
      "cell_type": "code",
      "source": [
        "\n",
        "\n",
        "model_0.state_dict()"
      ],
      "metadata": {
        "colab": {
          "base_uri": "https://localhost:8080/"
        },
        "id": "95MvvX971vgV",
        "outputId": "3b9a6fe2-d7d7-470f-f53e-e745e199f7af"
      },
      "execution_count": 12,
      "outputs": [
        {
          "output_type": "execute_result",
          "data": {
            "text/plain": [
              "OrderedDict([('weights', tensor([0.5784])), ('bias', tensor([0.3513]))])"
            ]
          },
          "metadata": {},
          "execution_count": 12
        }
      ]
    },
    {
      "cell_type": "markdown",
      "source": [
        "Saving the Model"
      ],
      "metadata": {
        "id": "pXxcRmv7fYia"
      }
    },
    {
      "cell_type": "code",
      "source": [
        "from pathlib import Path\n",
        "\n",
        "# 1) create directory\n",
        "\n",
        "model_path = Path(\"models\")\n",
        "model_path.mkdir(parents=True , exist_ok=True)\n",
        "\n",
        "# 2) create model path save\n",
        "\n",
        "model_name =  'first_model_LiniearRegression.pth'\n",
        "model_save_path = model_path / model_name\n",
        "\n",
        "# 3) save the model\n",
        "print(f'Saving model to: {model_save_path}')\n",
        "torch.save(obj=model_0.state_dict(),\n",
        "           f=model_save_path)\n"
      ],
      "metadata": {
        "colab": {
          "base_uri": "https://localhost:8080/"
        },
        "id": "FFSjA21k2H3c",
        "outputId": "2f795b93-3619-4c33-f3c1-4ca404d65fbe"
      },
      "execution_count": 14,
      "outputs": [
        {
          "output_type": "stream",
          "name": "stdout",
          "text": [
            "Saving model to: models/first_model_LiniearRegression.pth\n"
          ]
        }
      ]
    },
    {
      "cell_type": "markdown",
      "source": [
        "Put it all together"
      ],
      "metadata": {
        "id": "fCtMgoRajsAr"
      }
    },
    {
      "cell_type": "code",
      "source": [
        "import torch\n",
        "import torch.nn as nn\n",
        "import matplotlib.pyplot as plt\n"
      ],
      "metadata": {
        "id": "oeR8CS_whX_N"
      },
      "execution_count": 15,
      "outputs": []
    },
    {
      "cell_type": "code",
      "source": [
        "device = \"cuda\" if torch.cuda.is_available() else \"cpu\"\n",
        "device"
      ],
      "metadata": {
        "colab": {
          "base_uri": "https://localhost:8080/",
          "height": 36
        },
        "id": "gGVPAOpTj36N",
        "outputId": "e8c699c9-2c8c-4f1f-d1f0-9a1cefb48ac2"
      },
      "execution_count": 16,
      "outputs": [
        {
          "output_type": "execute_result",
          "data": {
            "text/plain": [
              "'cpu'"
            ],
            "application/vnd.google.colaboratory.intrinsic+json": {
              "type": "string"
            }
          },
          "metadata": {},
          "execution_count": 16
        }
      ]
    },
    {
      "cell_type": "markdown",
      "source": [
        "Data"
      ],
      "metadata": {
        "id": "LZosrRpJs_NO"
      }
    },
    {
      "cell_type": "code",
      "source": [
        "#create data using linear regression formula\n",
        "weight = 0.7\n",
        "bias = 0.3\n",
        "\n",
        "#create range\n",
        "start = 0\n",
        "end = 1\n",
        "step = 0.02\n",
        "\n",
        "#create x and y\n",
        "X = torch.arange(start,end,step).unsqueeze(dim=1)\n",
        "y = weight * X + bias\n",
        "\n",
        "X[:10], y[:10]"
      ],
      "metadata": {
        "colab": {
          "base_uri": "https://localhost:8080/"
        },
        "id": "QE5LfVFwkGXW",
        "outputId": "1285da7a-2498-41b5-8e11-609d711b53ca"
      },
      "execution_count": 18,
      "outputs": [
        {
          "output_type": "execute_result",
          "data": {
            "text/plain": [
              "(tensor([[0.0000],\n",
              "         [0.0200],\n",
              "         [0.0400],\n",
              "         [0.0600],\n",
              "         [0.0800],\n",
              "         [0.1000],\n",
              "         [0.1200],\n",
              "         [0.1400],\n",
              "         [0.1600],\n",
              "         [0.1800]]),\n",
              " tensor([[0.3000],\n",
              "         [0.3140],\n",
              "         [0.3280],\n",
              "         [0.3420],\n",
              "         [0.3560],\n",
              "         [0.3700],\n",
              "         [0.3840],\n",
              "         [0.3980],\n",
              "         [0.4120],\n",
              "         [0.4260]]))"
            ]
          },
          "metadata": {},
          "execution_count": 18
        }
      ]
    },
    {
      "cell_type": "code",
      "source": [
        "#spilit data to train and test\n",
        "train_spilit = int(0.8 * len(X))\n",
        "X_train , y_train =  X[:train_spilit] , y[:train_spilit]\n",
        "X_test , y_test = X[train_spilit:] , y[train_spilit:]\n",
        "len(X_train),len(y_train), len(X_test), len(y_test)"
      ],
      "metadata": {
        "colab": {
          "base_uri": "https://localhost:8080/"
        },
        "id": "fYeBHAHHttc1",
        "outputId": "6bea1a72-eee8-48cf-ab87-c43c4edb0a12"
      },
      "execution_count": 20,
      "outputs": [
        {
          "output_type": "execute_result",
          "data": {
            "text/plain": [
              "(40, 40, 10, 10)"
            ]
          },
          "metadata": {},
          "execution_count": 20
        }
      ]
    },
    {
      "cell_type": "markdown",
      "source": [
        "Build a Linear Regression Model\n"
      ],
      "metadata": {
        "id": "lkWx1FPCu0IN"
      }
    },
    {
      "cell_type": "code",
      "source": [
        "#build the class\n",
        "class LinearRegressionModelV2(nn.Module):\n",
        "  def __init__(self):\n",
        "    super().__init__()\n",
        "\n",
        "    self.linear_layer = nn.Linear(in_features=1,\n",
        "                                  out_features=1)\n",
        "\n",
        "  def forward(self, x : torch.Tensor) -> torch.Tensor:\n",
        "    return self.linear_layer(x)\n",
        "\n",
        "torch.manual_seed(42)\n",
        "model_1 = LinearRegressionModelV2()\n",
        "model_1 , model_1.state_dict()"
      ],
      "metadata": {
        "colab": {
          "base_uri": "https://localhost:8080/"
        },
        "id": "l3utyIUGuMW6",
        "outputId": "389aa0a5-0287-4f95-e5ca-df3279c085f9"
      },
      "execution_count": 21,
      "outputs": [
        {
          "output_type": "execute_result",
          "data": {
            "text/plain": [
              "(LinearRegressionModelV2(\n",
              "   (linear_layer): Linear(in_features=1, out_features=1, bias=True)\n",
              " ),\n",
              " OrderedDict([('linear_layer.weight', tensor([[0.7645]])),\n",
              "              ('linear_layer.bias', tensor([0.8300]))]))"
            ]
          },
          "metadata": {},
          "execution_count": 21
        }
      ]
    },
    {
      "cell_type": "markdown",
      "source": [
        "training"
      ],
      "metadata": {
        "id": "UBJlQ-x-yXR-"
      }
    },
    {
      "cell_type": "code",
      "source": [
        "for training we need:\n",
        "1) loss function\n",
        "2) optimizer\n",
        "3) training loop\n",
        "4) testing loop"
      ],
      "metadata": {
        "id": "vxZxiTFXxjk7"
      },
      "execution_count": null,
      "outputs": []
    },
    {
      "cell_type": "code",
      "source": [
        "#setuo loss functions\n",
        "loss = nn.L1Loss()\n",
        "\n",
        "#setup optimizer\n",
        "op = torch.optim.SGD(params=model_1.parameters(),lr=0.01)"
      ],
      "metadata": {
        "id": "ho1uPqtMyoAy"
      },
      "execution_count": 24,
      "outputs": []
    },
    {
      "cell_type": "code",
      "source": [
        "#traning loop\n",
        "\n",
        "torch.manual_seed(42)\n",
        "epochs = 200\n",
        "\n",
        "for epoch in range(epochs):\n",
        "\n",
        "  #step 0\n",
        "  model_1.train()\n",
        "\n",
        "  #step 1: forward pass\n",
        "  y_pred = model_1(X_train)\n",
        "\n",
        "  #step 2 : loss\n",
        "  ls = loss(y_pred , y_train)\n",
        "\n",
        "  #step 3 : optimizer zero grad\n",
        "  op.zero_grad()\n",
        "\n",
        "  #step 4: backpropagation\n",
        "  ls.backward()\n",
        "\n",
        "  #step 5: optimizer\n",
        "  op.step()\n",
        "\n",
        "\n",
        "  #Testing\n",
        "  model_1.eval()\n",
        "  with torch.inference_mode():\n",
        "    test_pred = model_1(X_test)\n",
        "\n",
        "    test_loss = loss(test_pred , y_test)\n",
        "\n",
        "  if epoch % 10 == 0:\n",
        "    print(f'epoch : {epoch} | loss :  {ls} | test_loss : {test_loss}' )"
      ],
      "metadata": {
        "colab": {
          "base_uri": "https://localhost:8080/"
        },
        "id": "DxU1dJD2zcuM",
        "outputId": "1e7f355a-edb7-4e9c-8ba2-1893a25d3ca6"
      },
      "execution_count": 26,
      "outputs": [
        {
          "output_type": "stream",
          "name": "stdout",
          "text": [
            "epoch : 0 | loss :  0.0012645035749301314 | test_loss : 0.013801807537674904\n",
            "epoch : 10 | loss :  0.0012645035749301314 | test_loss : 0.013801807537674904\n",
            "epoch : 20 | loss :  0.0012645035749301314 | test_loss : 0.013801807537674904\n",
            "epoch : 30 | loss :  0.0012645035749301314 | test_loss : 0.013801807537674904\n",
            "epoch : 40 | loss :  0.0012645035749301314 | test_loss : 0.013801807537674904\n",
            "epoch : 50 | loss :  0.0012645035749301314 | test_loss : 0.013801807537674904\n",
            "epoch : 60 | loss :  0.0012645035749301314 | test_loss : 0.013801807537674904\n",
            "epoch : 70 | loss :  0.0012645035749301314 | test_loss : 0.013801807537674904\n",
            "epoch : 80 | loss :  0.0012645035749301314 | test_loss : 0.013801807537674904\n",
            "epoch : 90 | loss :  0.0012645035749301314 | test_loss : 0.013801807537674904\n",
            "epoch : 100 | loss :  0.0012645035749301314 | test_loss : 0.013801807537674904\n",
            "epoch : 110 | loss :  0.0012645035749301314 | test_loss : 0.013801807537674904\n",
            "epoch : 120 | loss :  0.0012645035749301314 | test_loss : 0.013801807537674904\n",
            "epoch : 130 | loss :  0.0012645035749301314 | test_loss : 0.013801807537674904\n",
            "epoch : 140 | loss :  0.0012645035749301314 | test_loss : 0.013801807537674904\n",
            "epoch : 150 | loss :  0.0012645035749301314 | test_loss : 0.013801807537674904\n",
            "epoch : 160 | loss :  0.0012645035749301314 | test_loss : 0.013801807537674904\n",
            "epoch : 170 | loss :  0.0012645035749301314 | test_loss : 0.013801807537674904\n",
            "epoch : 180 | loss :  0.0012645035749301314 | test_loss : 0.013801807537674904\n",
            "epoch : 190 | loss :  0.0012645035749301314 | test_loss : 0.013801807537674904\n"
          ]
        }
      ]
    },
    {
      "cell_type": "markdown",
      "source": [
        "Save and Load Data"
      ],
      "metadata": {
        "id": "P8x-t9l62JQ_"
      }
    },
    {
      "cell_type": "code",
      "source": [
        "from pathlib import path\n",
        "model_path = path(\"model\")\n",
        "model_path.mkdir(parent=True, exist_ok=True)\n",
        "\n"
      ],
      "metadata": {
        "id": "bvmO-MHV3vlB"
      },
      "execution_count": null,
      "outputs": []
    }
  ]
}
